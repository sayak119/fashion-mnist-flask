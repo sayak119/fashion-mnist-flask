{
  "nbformat": 4,
  "nbformat_minor": 0,
  "metadata": {
    "colab": {
      "name": "Untitled",
      "version": "0.3.2",
      "provenance": []
    },
    "kernelspec": {
      "name": "python3",
      "display_name": "Python 3"
    }
  },
  "cells": [
    {
      "cell_type": "code",
      "metadata": {
        "id": "yPIQjCXFPYv9",
        "colab_type": "code",
        "colab": {}
      },
      "source": [
        "!pip install -q -U tensorflow>=1.8.0"
      ],
      "execution_count": 0,
      "outputs": []
    },
    {
      "cell_type": "code",
      "metadata": {
        "id": "vvQUcahIR3Ff",
        "colab_type": "code",
        "outputId": "4c5830bb-28fd-4ef2-92a9-eb34b843c61a",
        "colab": {
          "base_uri": "https://localhost:8080/",
          "height": 34
        }
      },
      "source": [
        "import tensorflow as tf\n",
        "\n",
        "import numpy as np\n",
        "import matplotlib.pyplot as plt\n",
        "\n",
        "(x_train, y_train), (x_test, y_test) = tf.keras.datasets.fashion_mnist.load_data()\n",
        "\n",
        "print(\"x_train shape:\", x_train.shape, \"y_train shape:\", y_train.shape)"
      ],
      "execution_count": 13,
      "outputs": [
        {
          "output_type": "stream",
          "text": [
            "x_train shape: (60000, 28, 28) y_train shape: (60000,)\n"
          ],
          "name": "stdout"
        }
      ]
    },
    {
      "cell_type": "code",
      "metadata": {
        "id": "vI0oJZTESC77",
        "colab_type": "code",
        "outputId": "3c75d017-dc77-4036-f1b5-369225250c3e",
        "colab": {
          "base_uri": "https://localhost:8080/",
          "height": 34
        }
      },
      "source": [
        "x_train.shape"
      ],
      "execution_count": 14,
      "outputs": [
        {
          "output_type": "execute_result",
          "data": {
            "text/plain": [
              "(60000, 28, 28)"
            ]
          },
          "metadata": {
            "tags": []
          },
          "execution_count": 14
        }
      ]
    },
    {
      "cell_type": "code",
      "metadata": {
        "id": "fQoHzM13SJFh",
        "colab_type": "code",
        "colab": {}
      },
      "source": [
        "x_train = x_train.astype('float32') / 255\n",
        "x_test = x_test.astype('float32') / 255"
      ],
      "execution_count": 0,
      "outputs": []
    },
    {
      "cell_type": "code",
      "metadata": {
        "id": "scuuGCk6Szsi",
        "colab_type": "code",
        "outputId": "839bedc6-3033-4028-aa14-528b9290daa7",
        "colab": {
          "base_uri": "https://localhost:8080/",
          "height": 86
        }
      },
      "source": [
        "(x_train, x_valid) = x_train[5000:], x_train[:5000] \n",
        "(y_train, y_valid) = y_train[5000:], y_train[:5000]\n",
        "\n",
        "w, h = 28, 28\n",
        "x_train = x_train.reshape(x_train.shape[0], w, h, 1)\n",
        "x_valid = x_valid.reshape(x_valid.shape[0], w, h, 1)\n",
        "x_test = x_test.reshape(x_test.shape[0], w, h, 1)\n",
        "\n",
        "y_train = tf.keras.utils.to_categorical(y_train, 10)\n",
        "y_valid = tf.keras.utils.to_categorical(y_valid, 10)\n",
        "y_test = tf.keras.utils.to_categorical(y_test, 10)\n",
        "\n",
        "print(\"x_train shape:\", x_train.shape, \"y_train shape:\", y_train.shape)\n",
        "print(x_train.shape[0], 'train set')\n",
        "print(x_valid.shape[0], 'validation set')\n",
        "print(x_test.shape[0], 'test set')"
      ],
      "execution_count": 16,
      "outputs": [
        {
          "output_type": "stream",
          "text": [
            "x_train shape: (55000, 28, 28, 1) y_train shape: (55000, 10)\n",
            "55000 train set\n",
            "5000 validation set\n",
            "10000 test set\n"
          ],
          "name": "stdout"
        }
      ]
    },
    {
      "cell_type": "code",
      "metadata": {
        "id": "4UL4fZPaSR3q",
        "colab_type": "code",
        "outputId": "53b35022-5006-4e2d-ca13-be45ccadf46a",
        "colab": {
          "base_uri": "https://localhost:8080/",
          "height": 486
        }
      },
      "source": [
        "model = tf.keras.Sequential()\n",
        "\n",
        "model.add(tf.keras.layers.Conv2D(filters=64, kernel_size=2, padding='same', activation='relu', input_shape=(28,28,1))) \n",
        "model.add(tf.keras.layers.MaxPooling2D(pool_size=2))\n",
        "model.add(tf.keras.layers.Dropout(0.3))\n",
        "\n",
        "model.add(tf.keras.layers.Conv2D(filters=32, kernel_size=2, padding='same', activation='relu'))\n",
        "model.add(tf.keras.layers.MaxPooling2D(pool_size=2))\n",
        "model.add(tf.keras.layers.Dropout(0.3))\n",
        "\n",
        "model.add(tf.keras.layers.Flatten())\n",
        "model.add(tf.keras.layers.Dense(256, activation='relu'))\n",
        "model.add(tf.keras.layers.Dropout(0.5))\n",
        "model.add(tf.keras.layers.Dense(10, activation='softmax'))\n",
        "\n",
        "model.summary()"
      ],
      "execution_count": 17,
      "outputs": [
        {
          "output_type": "stream",
          "text": [
            "_________________________________________________________________\n",
            "Layer (type)                 Output Shape              Param #   \n",
            "=================================================================\n",
            "conv2d_2 (Conv2D)            (None, 28, 28, 64)        320       \n",
            "_________________________________________________________________\n",
            "max_pooling2d_2 (MaxPooling2 (None, 14, 14, 64)        0         \n",
            "_________________________________________________________________\n",
            "dropout_3 (Dropout)          (None, 14, 14, 64)        0         \n",
            "_________________________________________________________________\n",
            "conv2d_3 (Conv2D)            (None, 14, 14, 32)        8224      \n",
            "_________________________________________________________________\n",
            "max_pooling2d_3 (MaxPooling2 (None, 7, 7, 32)          0         \n",
            "_________________________________________________________________\n",
            "dropout_4 (Dropout)          (None, 7, 7, 32)          0         \n",
            "_________________________________________________________________\n",
            "flatten_1 (Flatten)          (None, 1568)              0         \n",
            "_________________________________________________________________\n",
            "dense_2 (Dense)              (None, 256)               401664    \n",
            "_________________________________________________________________\n",
            "dropout_5 (Dropout)          (None, 256)               0         \n",
            "_________________________________________________________________\n",
            "dense_3 (Dense)              (None, 10)                2570      \n",
            "=================================================================\n",
            "Total params: 412,778\n",
            "Trainable params: 412,778\n",
            "Non-trainable params: 0\n",
            "_________________________________________________________________\n"
          ],
          "name": "stdout"
        }
      ]
    },
    {
      "cell_type": "code",
      "metadata": {
        "id": "AN_PM1o2Sa7y",
        "colab_type": "code",
        "colab": {}
      },
      "source": [
        "model.compile(loss='categorical_crossentropy',\n",
        "             optimizer='adam',\n",
        "             metrics=['accuracy'])"
      ],
      "execution_count": 0,
      "outputs": []
    },
    {
      "cell_type": "code",
      "metadata": {
        "id": "-4vKdC66Sfpk",
        "colab_type": "code",
        "outputId": "4a4f63da-dafb-44f8-d012-79e4f3f10bcc",
        "colab": {
          "base_uri": "https://localhost:8080/",
          "height": 746
        }
      },
      "source": [
        "from tensorflow.keras.callbacks import ModelCheckpoint, EarlyStopping\n",
        "\n",
        "checkpointer = ModelCheckpoint(filepath='model_weights_best.h5', verbose = 1, save_best_only=True)\n",
        "stop = EarlyStopping(monitor='val_loss', patience=15, verbose=1, mode='min')\n",
        "model.fit(x_train,\n",
        "         y_train,\n",
        "         batch_size=64,\n",
        "         epochs=10,\n",
        "         validation_data=(x_valid, y_valid),\n",
        "         callbacks=[checkpointer, stop])"
      ],
      "execution_count": 19,
      "outputs": [
        {
          "output_type": "stream",
          "text": [
            "Train on 55000 samples, validate on 5000 samples\n",
            "Epoch 1/10\n",
            "54976/55000 [============================>.] - ETA: 0s - loss: 0.6031 - acc: 0.7796\n",
            "Epoch 00001: val_loss improved from inf to 0.39689, saving model to model_weights_best.h5\n",
            "55000/55000 [==============================] - 90s 2ms/sample - loss: 0.6029 - acc: 0.7796 - val_loss: 0.3969 - val_acc: 0.8592\n",
            "Epoch 2/10\n",
            "54976/55000 [============================>.] - ETA: 0s - loss: 0.4189 - acc: 0.8483\n",
            "Epoch 00002: val_loss improved from 0.39689 to 0.31909, saving model to model_weights_best.h5\n",
            "55000/55000 [==============================] - 91s 2ms/sample - loss: 0.4189 - acc: 0.8483 - val_loss: 0.3191 - val_acc: 0.8838\n",
            "Epoch 3/10\n",
            "54976/55000 [============================>.] - ETA: 0s - loss: 0.3745 - acc: 0.8638\n",
            "Epoch 00003: val_loss improved from 0.31909 to 0.30448, saving model to model_weights_best.h5\n",
            "55000/55000 [==============================] - 90s 2ms/sample - loss: 0.3745 - acc: 0.8638 - val_loss: 0.3045 - val_acc: 0.8882\n",
            "Epoch 4/10\n",
            "54976/55000 [============================>.] - ETA: 0s - loss: 0.3476 - acc: 0.8719\n",
            "Epoch 00004: val_loss improved from 0.30448 to 0.27869, saving model to model_weights_best.h5\n",
            "55000/55000 [==============================] - 90s 2ms/sample - loss: 0.3475 - acc: 0.8719 - val_loss: 0.2787 - val_acc: 0.8948\n",
            "Epoch 5/10\n",
            "54976/55000 [============================>.] - ETA: 0s - loss: 0.3265 - acc: 0.8810\n",
            "Epoch 00005: val_loss improved from 0.27869 to 0.27528, saving model to model_weights_best.h5\n",
            "55000/55000 [==============================] - 90s 2ms/sample - loss: 0.3265 - acc: 0.8810 - val_loss: 0.2753 - val_acc: 0.8952\n",
            "Epoch 6/10\n",
            "54976/55000 [============================>.] - ETA: 0s - loss: 0.3086 - acc: 0.8866\n",
            "Epoch 00006: val_loss improved from 0.27528 to 0.25856, saving model to model_weights_best.h5\n",
            "55000/55000 [==============================] - 90s 2ms/sample - loss: 0.3086 - acc: 0.8867 - val_loss: 0.2586 - val_acc: 0.9070\n",
            "Epoch 7/10\n",
            "54976/55000 [============================>.] - ETA: 0s - loss: 0.2983 - acc: 0.8891\n",
            "Epoch 00007: val_loss improved from 0.25856 to 0.24996, saving model to model_weights_best.h5\n",
            "55000/55000 [==============================] - 89s 2ms/sample - loss: 0.2982 - acc: 0.8892 - val_loss: 0.2500 - val_acc: 0.9078\n",
            "Epoch 8/10\n",
            "54976/55000 [============================>.] - ETA: 0s - loss: 0.2858 - acc: 0.8939\n",
            "Epoch 00008: val_loss improved from 0.24996 to 0.23605, saving model to model_weights_best.h5\n",
            "55000/55000 [==============================] - 89s 2ms/sample - loss: 0.2857 - acc: 0.8939 - val_loss: 0.2361 - val_acc: 0.9142\n",
            "Epoch 9/10\n",
            "54976/55000 [============================>.] - ETA: 0s - loss: 0.2767 - acc: 0.8977\n",
            "Epoch 00009: val_loss improved from 0.23605 to 0.23340, saving model to model_weights_best.h5\n",
            "55000/55000 [==============================] - 90s 2ms/sample - loss: 0.2768 - acc: 0.8977 - val_loss: 0.2334 - val_acc: 0.9124\n",
            "Epoch 10/10\n",
            "54976/55000 [============================>.] - ETA: 0s - loss: 0.2683 - acc: 0.9003\n",
            "Epoch 00010: val_loss improved from 0.23340 to 0.22448, saving model to model_weights_best.h5\n",
            "55000/55000 [==============================] - 89s 2ms/sample - loss: 0.2683 - acc: 0.9002 - val_loss: 0.2245 - val_acc: 0.9198\n"
          ],
          "name": "stdout"
        },
        {
          "output_type": "execute_result",
          "data": {
            "text/plain": [
              "<tensorflow.python.keras.callbacks.History at 0x7ff2e9275710>"
            ]
          },
          "metadata": {
            "tags": []
          },
          "execution_count": 19
        }
      ]
    },
    {
      "cell_type": "code",
      "metadata": {
        "id": "kwVXLqs9Si8s",
        "colab_type": "code",
        "outputId": "42df2fa5-9f16-4455-9348-db535d536cd0",
        "colab": {
          "base_uri": "https://localhost:8080/",
          "height": 52
        }
      },
      "source": [
        "model.load_weights('model_weights_best.h5')\n",
        "score = model.evaluate(x_test, y_test, verbose=0)\n",
        "print('\\n', 'Test accuracy:', score[1])"
      ],
      "execution_count": 20,
      "outputs": [
        {
          "output_type": "stream",
          "text": [
            "\n",
            " Test accuracy: 0.9106\n"
          ],
          "name": "stdout"
        }
      ]
    },
    {
      "cell_type": "code",
      "metadata": {
        "id": "1aIIA3MlnCFe",
        "colab_type": "code",
        "colab": {}
      },
      "source": [
        "from tensorflow.keras.models import load_model\n",
        "model = load_model(\"model_weights_best.h5\")\n",
        "model_name = \"model_weights_best.h5\""
      ],
      "execution_count": 0,
      "outputs": []
    },
    {
      "cell_type": "code",
      "metadata": {
        "id": "sh-mZLI6f19N",
        "colab_type": "code",
        "colab": {}
      },
      "source": [
        ""
      ],
      "execution_count": 0,
      "outputs": []
    }
  ]
}